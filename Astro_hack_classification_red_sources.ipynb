{
 "cells": [
  {
   "cell_type": "code",
   "execution_count": 1,
   "metadata": {
    "collapsed": false
   },
   "outputs": [
    {
     "name": "stdout",
     "output_type": "stream",
     "text": [
      "Automatically created module for IPython interactive environment\n"
     ]
    }
   ],
   "source": [
    "print(__doc__)"
   ]
  },
  {
   "cell_type": "code",
   "execution_count": 26,
   "metadata": {
    "collapsed": false
   },
   "outputs": [
    {
     "name": "stdout",
     "output_type": "stream",
     "text": [
      "Populating the interactive namespace from numpy and matplotlib\n"
     ]
    }
   ],
   "source": [
    "%pylab inline\n",
    "\n",
    "import numpy as np\n",
    "import matplotlib.pyplot as plt\n",
    "from matplotlib.colors import ListedColormap\n",
    "from sklearn.cross_validation import train_test_split\n",
    "from sklearn.preprocessing import StandardScaler\n",
    "from sklearn.datasets import make_moons, make_circles, make_classification\n",
    "from sklearn.neighbors import KNeighborsClassifier\n",
    "from sklearn.svm import SVC\n",
    "from sklearn.tree import DecisionTreeClassifier\n",
    "from sklearn.ensemble import RandomForestClassifier, AdaBoostClassifier\n",
    "from sklearn.naive_bayes import GaussianNB\n",
    "from sklearn.discriminant_analysis import LinearDiscriminantAnalysis\n",
    "from sklearn.discriminant_analysis import QuadraticDiscriminantAnalysis\n",
    "import pickle"
   ]
  },
  {
   "cell_type": "code",
   "execution_count": 27,
   "metadata": {
    "collapsed": true
   },
   "outputs": [],
   "source": [
    "# Read all datapoints from training and testing sets\n",
    "\n",
    "all_file = open('/Users/jmartine/science/data/training_sets/agb_yso_data_serpens.pickle','rb')\n",
    "col__3_6__4_5__serpens_agb,col__3_6__4_5__serpens_yso,col__3_6__5_8__serpens_agb,col__3_6__5_8__serpens_yso,col__5_8__8_0__serpens_agb,col__5_8__8_0__serpens_yso,col__4_5__5_8__serpens_agb,col__4_5__5_8__serpens_yso,col__4_5__8_0__serpens_agb,col__4_5__8_0__serpens_yso,col__3_6__8_0__serpens_agb,col__3_6__8_0__serpens_yso,col__3_6__serpens_agb,col__3_6__serpens_yso,col__4_5__serpens_agb,col__4_5__serpens_yso,col__5_8__serpens_agb,col__5_8__serpens_yso,col__8_0__serpens_agb,col__8_0__serpens_yso = pickle.load(all_file)\n",
    "\n",
    "all_file = open('/Users/jmartine/science/data/training_sets/agb_yso_data_n1333.pickle','rb')\n",
    "col__3_6__4_5__n1333_agb,col__3_6__4_5__n1333_yso,col__3_6__5_8__n1333_agb,col__3_6__5_8__n1333_yso,col__5_8__8_0__n1333_agb,col__5_8__8_0__n1333_yso,col__4_5__5_8__n1333_agb,col__4_5__5_8__n1333_yso,col__4_5__8_0__n1333_agb,col__4_5__8_0__n1333_yso,col__3_6__8_0__n1333_agb,col__3_6__8_0__n1333_yso,col__3_6__n1333_agb,col__3_6__n1333_yso,col__4_5__n1333_agb,col__4_5__n1333_yso,col__5_8__n1333_agb,col__5_8__n1333_yso,col__8_0__n1333_agb,col__8_0__n1333_yso = pickle.load(all_file)\n",
    "\n",
    "all_file = open('/Users/jmartine/science/data/training_sets/agb_yso_data_ruffle.pickle','rb')\n",
    "col__3_6__4_5__ruffle_agb,col__3_6__4_5__ruffle_yso,col__3_6__5_8__ruffle_agb,col__3_6__5_8__ruffle_yso,col__5_8__8_0__ruffle_agb,col__5_8__8_0__ruffle_yso,col__4_5__5_8__ruffle_agb,col__4_5__5_8__ruffle_yso,col__4_5__8_0__ruffle_agb,col__4_5__8_0__ruffle_yso,col__3_6__8_0__ruffle_agb,col__3_6__8_0__ruffle_yso,col__3_6__ruffle_agb,col__3_6__ruffle_yso,col__4_5__ruffle_agb,col__4_5__ruffle_yso,col__5_8__ruffle_agb,col__5_8__ruffle_yso,col__8_0__ruffle_agb,col__8_0__ruffle_yso = pickle.load(all_file)\n",
    "\n",
    "all_file = open('/Users/jmartine/science/data/training_sets/agb_yso_data_reiter.pickle','rb')\n",
    "col__3_6__4_5__reiter_agb,col__3_6__4_5__reiter_yso,col__3_6__5_8__reiter_agb,col__3_6__5_8__reiter_yso,col__5_8__8_0__reiter_agb,col__5_8__8_0__reiter_yso,col__4_5__5_8__reiter_agb,col__4_5__5_8__reiter_yso,col__4_5__8_0__reiter_agb,col__4_5__8_0__reiter_yso,col__3_6__8_0__reiter_agb,col__3_6__8_0__reiter_yso,col__3_6__reiter_agb,col__3_6__reiter_yso,col__4_5__reiter_agb,col__4_5__reiter_yso,col__5_8__reiter_agb,col__5_8__reiter_yso,col__8_0__reiter_agb,col__8_0__reiter_yso = pickle.load(all_file)"
   ]
  },
  {
   "cell_type": "code",
   "execution_count": 28,
   "metadata": {
    "collapsed": true
   },
   "outputs": [],
   "source": [
    "# Splitting AGBs and YSOs. Cleaning the sample. \n",
    "\n",
    "col__5_8__8_0__yso = append(col__5_8__8_0__serpens_yso[col__5_8__8_0__serpens_yso > 0.3],col__5_8__8_0__n1333_yso[col__5_8__8_0__n1333_yso > 0.3])\n",
    "col__3_6__4_5__yso = append(col__3_6__4_5__serpens_yso[col__5_8__8_0__serpens_yso > 0.3],col__3_6__4_5__n1333_yso[col__5_8__8_0__n1333_yso > 0.3])\n",
    "col__3_6__5_8__yso = append(col__3_6__5_8__serpens_yso[col__5_8__8_0__serpens_yso > 0.3],col__3_6__5_8__n1333_yso[col__5_8__8_0__n1333_yso > 0.3])\n",
    "col__4_5__5_8__yso = append(col__4_5__5_8__serpens_yso[col__5_8__8_0__serpens_yso > 0.3],col__4_5__5_8__n1333_yso[col__5_8__8_0__n1333_yso > 0.3])\n",
    "col__4_5__8_0__yso = append(col__4_5__8_0__serpens_yso[col__5_8__8_0__serpens_yso > 0.3],col__4_5__8_0__n1333_yso[col__5_8__8_0__n1333_yso > 0.3])\n",
    "col__3_6__8_0__yso = append(col__3_6__8_0__serpens_yso[col__5_8__8_0__serpens_yso > 0.3],col__3_6__8_0__n1333_yso[col__5_8__8_0__n1333_yso > 0.3])\n",
    "col__3_6__yso = append(col__3_6__serpens_yso[col__5_8__8_0__serpens_yso > 0.3],col__3_6__n1333_yso[col__5_8__8_0__n1333_yso > 0.3])\n",
    "col__4_5__yso = append(col__4_5__serpens_yso[col__5_8__8_0__serpens_yso > 0.3],col__4_5__n1333_yso[col__5_8__8_0__n1333_yso > 0.3])\n",
    "col__5_8__yso = append(col__5_8__serpens_yso[col__5_8__8_0__serpens_yso > 0.3],col__5_8__n1333_yso[col__5_8__8_0__n1333_yso > 0.3])\n",
    "col__8_0__yso = append(col__8_0__serpens_yso[col__5_8__8_0__serpens_yso > 0.3],col__8_0__n1333_yso[col__5_8__8_0__n1333_yso > 0.3])\n",
    "\n",
    "#plt.scatter(col__5_8__8_0__yso,col__3_6__4_5__yso)"
   ]
  },
  {
   "cell_type": "code",
   "execution_count": 29,
   "metadata": {
    "collapsed": true
   },
   "outputs": [],
   "source": [
    "# Splitting AGBs and YSOs. Cleaning the sample. \n",
    "\n",
    "col__5_8__8_0__agb = append(col__5_8__8_0__reiter_agb[col__5_8__8_0__reiter_agb < 0.85],col__5_8__8_0__ruffle_agb[col__5_8__8_0__ruffle_agb < 0.85])\n",
    "col__3_6__4_5__agb = append(col__3_6__4_5__reiter_agb[col__5_8__8_0__reiter_agb < 0.85],col__3_6__4_5__ruffle_agb[col__5_8__8_0__ruffle_agb < 0.85])\n",
    "col__3_6__5_8__agb = append(col__3_6__5_8__reiter_agb[col__5_8__8_0__reiter_agb < 0.85],col__3_6__5_8__ruffle_agb[col__5_8__8_0__ruffle_agb < 0.85])\n",
    "col__4_5__5_8__agb = append(col__4_5__5_8__reiter_agb[col__5_8__8_0__reiter_agb < 0.85],col__4_5__5_8__ruffle_agb[col__5_8__8_0__ruffle_agb < 0.85])\n",
    "col__4_5__8_0__agb = append(col__4_5__8_0__reiter_agb[col__5_8__8_0__reiter_agb < 0.85],col__4_5__8_0__ruffle_agb[col__5_8__8_0__ruffle_agb < 0.85])\n",
    "col__3_6__8_0__agb = append(col__3_6__8_0__reiter_agb[col__5_8__8_0__reiter_agb < 0.85],col__3_6__8_0__ruffle_agb[col__5_8__8_0__ruffle_agb < 0.85])\n",
    "col__3_6__agb = append(col__3_6__reiter_agb[col__5_8__8_0__reiter_agb < 0.85],col__3_6__ruffle_agb[col__5_8__8_0__ruffle_agb < 0.85])\n",
    "col__4_5__agb = append(col__4_5__reiter_agb[col__5_8__8_0__reiter_agb < 0.85],col__4_5__ruffle_agb[col__5_8__8_0__ruffle_agb < 0.85])\n",
    "col__5_8__agb = append(col__5_8__reiter_agb[col__5_8__8_0__reiter_agb < 0.85],col__5_8__ruffle_agb[col__5_8__8_0__ruffle_agb < 0.85])\n",
    "col__8_0__agb = append(col__8_0__reiter_agb[col__5_8__8_0__reiter_agb < 0.85],col__8_0__ruffle_agb[col__5_8__8_0__ruffle_agb < 0.85])\n",
    "#plt.scatter(col__5_8__8_0__agb,col__3_6__4_5__agb)"
   ]
  },
  {
   "cell_type": "code",
   "execution_count": 30,
   "metadata": {
    "collapsed": false
   },
   "outputs": [
    {
     "data": {
      "text/plain": [
       "<matplotlib.collections.PathCollection at 0x10fb21f90>"
      ]
     },
     "execution_count": 30,
     "metadata": {},
     "output_type": "execute_result"
    },
    {
     "data": {
      "image/png": "[encoded data removed]",
      "text/plain": [
       "<matplotlib.figure.Figure at 0x109f77c50>"
      ]
     },
     "metadata": {},
     "output_type": "display_data"
    }
   ],
   "source": [
    "plt.scatter(col__5_8__8_0__agb,col__3_6__5_8__agb,color='blue',alpha=0.4)\n",
    "plt.scatter(col__5_8__8_0__yso,col__3_6__5_8__yso,color='red',alpha=0.4)\n",
    "#plt.scatter(col__5_8__8_0__agb,col__4_5__8_0__agb,color='orange',alpha=0.4)"
   ]
  },
  {
   "cell_type": "code",
   "execution_count": 31,
   "metadata": {
    "collapsed": false
   },
   "outputs": [
    {
     "name": "stdout",
     "output_type": "stream",
     "text": [
      "(200,)\n",
      "(134,)\n"
     ]
    }
   ],
   "source": [
    "print shape(col__5_8__8_0__agb)\n",
    "print shape(col__5_8__8_0__yso)"
   ]
  },
  {
   "cell_type": "code",
   "execution_count": 32,
   "metadata": {
    "collapsed": false
   },
   "outputs": [
    {
     "name": "stdout",
     "output_type": "stream",
     "text": [
      "(200,)\n",
      "(134,)\n"
     ]
    }
   ],
   "source": [
    "# Select training data\n",
    "\n",
    "size_training_set = 70\n",
    "\n",
    "mask1 = np.ones(len(col__5_8__8_0__agb), dtype=bool)\n",
    "mask2 = np.ones(len(col__5_8__8_0__yso), dtype=bool)\n",
    "\n",
    "at1 = np.arange(len(col__5_8__8_0__agb))\n",
    "at2 = np.arange(len(col__5_8__8_0__yso))\n",
    "\n",
    "numpy.random.shuffle(at1)\n",
    "it1 = at1[0:size_training_set]\n",
    "numpy.random.shuffle(at2)\n",
    "it2 = at2[0:size_training_set]\n",
    "\n",
    "mask1[it1] = False\n",
    "mask2[it2] = False\n",
    "\n",
    "print shape(mask1)\n",
    "print shape(mask2)"
   ]
  },
  {
   "cell_type": "code",
   "execution_count": 33,
   "metadata": {
    "collapsed": false
   },
   "outputs": [
    {
     "name": "stdout",
     "output_type": "stream",
     "text": [
      "(130,)\n",
      "(130,)\n",
      "(64,)\n",
      "(64,)\n"
     ]
    },
    {
     "data": {
      "image/png": "[encoded data removed]",
      "text/plain": [
       "<matplotlib.figure.Figure at 0x10fdcd690>"
      ]
     },
     "metadata": {},
     "output_type": "display_data"
    }
   ],
   "source": [
    "plt.scatter(col__5_8__8_0__agb[it1],col__3_6__5_8__agb[it1],color='blue')\n",
    "plt.scatter(col__5_8__8_0__yso[it2],col__3_6__5_8__yso[it2],color='red')\n",
    "plt.scatter(col__5_8__8_0__agb[mask1],col__3_6__5_8__agb[mask1],color='blue',alpha=0.3)\n",
    "plt.scatter(col__5_8__8_0__yso[mask2],col__3_6__5_8__yso[mask2],color='red',alpha=0.3)\n",
    "print shape(col__5_8__8_0__agb[mask1])\n",
    "print shape(col__3_6__5_8__agb[mask1])\n",
    "print shape(col__5_8__8_0__yso[mask2])\n",
    "print shape(col__3_6__5_8__yso[mask2])"
   ]
  },
  {
   "cell_type": "code",
   "execution_count": 34,
   "metadata": {
    "collapsed": false
   },
   "outputs": [
    {
     "name": "stdout",
     "output_type": "stream",
     "text": [
      "(140, 7)\n"
     ]
    }
   ],
   "source": [
    "# TRAINING SET\n",
    "# USING 4 FEATURES\n",
    "# 0's are YSOs, 1's are AGBs\n",
    "col_agb_train = np.array([col__5_8__8_0__agb[it1],col__3_6__5_8__agb[it1],col__4_5__5_8__agb[it1],col__4_5__8_0__agb[it1],col__3_6__4_5__agb[it1],col__3_6__8_0__agb[it1]])\n",
    "col_agb_train = col_agb_train.T\n",
    "col_yso_train = np.array([col__5_8__8_0__yso[it2],col__3_6__5_8__yso[it2],col__4_5__5_8__yso[it2],col__4_5__8_0__yso[it2],col__3_6__4_5__yso[it2],col__3_6__8_0__yso[it2]])\n",
    "col_yso_train = col_yso_train.T\n",
    "col_train = concatenate((col_agb_train,col_yso_train),axis=0)\n",
    "lab_train = np.zeros(len(col_train))\n",
    "lab_train[0:size_training_set] = 1\n",
    "lab_train = lab_train.astype(int)\n",
    "ind = arange(len(col_train))\n",
    "random.shuffle(ind)\n",
    "col_train = col_train[ind]\n",
    "lab_train = lab_train[ind]\n",
    "null_feature_train = np.zeros(140)\n",
    "\n",
    "col_train_null = np.concatenate((transpose(col_train), [null_feature_train]), axis=0)\n",
    "\n",
    "col_train_null = col_train_null.T\n",
    "\n",
    "col_train = col_train_null\n",
    "\n",
    "print shape(col_train_null)\n",
    "\n",
    "feature_names = ['5_8__8_0','3_6__5_8','4_5__5_8','4_5__8_0','3_6__4_5','3_6__8_0','null']"
   ]
  },
  {
   "cell_type": "code",
   "execution_count": 35,
   "metadata": {
    "collapsed": false
   },
   "outputs": [
    {
     "name": "stdout",
     "output_type": "stream",
     "text": [
      "(194, 7)\n"
     ]
    }
   ],
   "source": [
    "# TEST SET\n",
    "# 0's are YSOs, 1's are AGBs\n",
    "col_agb_test = np.array([col__5_8__8_0__agb[mask1],col__3_6__5_8__agb[mask1],col__4_5__5_8__agb[mask1],col__4_5__8_0__agb[mask1],col__3_6__4_5__agb[mask1],col__3_6__8_0__agb[mask1]])\n",
    "col_agb_test = col_agb_test.T\n",
    "col_yso_test = np.array([col__5_8__8_0__yso[mask2],col__3_6__5_8__yso[mask2],col__4_5__5_8__yso[mask2],col__4_5__8_0__yso[mask2],col__3_6__4_5__yso[mask2],col__3_6__8_0__yso[mask2]])\n",
    "col_yso_test = col_yso_test.T\n",
    "col_test = concatenate((col_agb_test,col_yso_test),axis=0)\n",
    "lab_test = np.zeros(len(col_test))\n",
    "lab_test[0:len(col__5_8__8_0__agb[mask1])] = 1\n",
    "lab_test = lab_test.astype(int)\n",
    "ind = arange(len(col_test))\n",
    "random.shuffle(ind)\n",
    "col_test = col_test[ind]\n",
    "lab_test = lab_test[ind]\n",
    "null_feature_test = np.zeros(194)\n",
    "\n",
    "col_test_null = np.concatenate((transpose(col_test), [null_feature_test]), axis=0)\n",
    "\n",
    "col_test_null = col_test_null.T\n",
    "\n",
    "col_test = col_test_null\n",
    "\n",
    "print shape(col_test_null)\n",
    "\n",
    "#print shape(col_test),shape(lab_test)"
   ]
  },
  {
   "cell_type": "code",
   "execution_count": 36,
   "metadata": {
    "collapsed": false
   },
   "outputs": [
    {
     "name": "stdout",
     "output_type": "stream",
     "text": [
      "(140, 7) (1, 140)\n"
     ]
    }
   ],
   "source": [
    "indu = ~isnan(col_test[:,1])\n",
    "col_test = col_test[indu]\n",
    "lab_test = lab_test[indu]\n",
    "\n",
    "indu = ~isnan(col_train[:,1])\n",
    "col_train = col_train[indu]\n",
    "lab_train = lab_train[indu]\n",
    "\n",
    "print shape(col_train),shape([lab_train])"
   ]
  },
  {
   "cell_type": "code",
   "execution_count": 37,
   "metadata": {
    "collapsed": false
   },
   "outputs": [
    {
     "name": "stdout",
     "output_type": "stream",
     "text": [
      "(334, 7)\n",
      "[1 0 0 1 1 1 0 0 1 1 1 0 1 1 1 0 1 1 1 1 1 1 1 1 0 0 1 0 0 1 0 1 0 0 1 1 1\n",
      " 0 1 1 1 1 0 0 1 1 1 1 0 1 1 0 0 1 1 1 1 1 0 1 0 1 1 1 0 1 0 0 0 1 0 0 1 1\n",
      " 0 1 1 1 1 0 1 0 1 1 1 1 1 1 1 1 1 0 1 0 0 0 0 1 1 1]\n"
     ]
    }
   ],
   "source": [
    "X = np.append(col_test,col_train,axis=0)\n",
    "Y = np.append(lab_test,lab_train,axis=0)\n",
    "\n",
    "print shape(X)\n",
    "print Y[0:100]\n",
    "\n"
   ]
  },
  {
   "cell_type": "code",
   "execution_count": 38,
   "metadata": {
    "collapsed": false
   },
   "outputs": [],
   "source": [
    "#h = .02  # step size in the mesh\n",
    "\n",
    "#x_min, x_max = -0.5, 2.0\n",
    "#y_min, y_max = -1.0, 3.5\n",
    "#z_min, z_max = -1.5, 2.0\n",
    "#t_min, t_max = -0.5, 2.0\n",
    "#xx, yy, zz, tt = np.meshgrid(np.arange(x_min, x_max, h),\n",
    "#                        np.arange(y_min, y_max, h), np.arange(z_min, z_max, h), np.arange(t_min, t_max, h))\n"
   ]
  },
  {
   "cell_type": "code",
   "execution_count": 39,
   "metadata": {
    "collapsed": true
   },
   "outputs": [],
   "source": [
    "# instantiate the RF learning object\n",
    "IR_rf = RandomForestClassifier()\n"
   ]
  },
  {
   "cell_type": "code",
   "execution_count": 40,
   "metadata": {
    "collapsed": true
   },
   "outputs": [],
   "source": [
    "# parameter values over which we will search\n",
    "parameters = {'n_estimators':(200,500,1000),\"max_features\": [\"auto\",3,7],\n",
    "              'criterion':[str(\"gini\"),str(\"entropy\")],\"min_samples_leaf\": [1,2]}\n",
    "#parameters = {'kernel':('linear', 'rbf')}\n"
   ]
  },
  {
   "cell_type": "code",
   "execution_count": 41,
   "metadata": {
    "collapsed": false
   },
   "outputs": [],
   "source": [
    "# do a grid search to find the highest 3-fold CV zero-one score\n",
    "\n",
    "from sklearn import grid_search\n",
    "rf_tune = grid_search.GridSearchCV(IR_rf, parameters,\\\n",
    "                                    n_jobs = -1, cv = 3,verbose=1)\n"
   ]
  },
  {
   "cell_type": "code",
   "execution_count": 42,
   "metadata": {
    "collapsed": false
   },
   "outputs": [
    {
     "name": "stdout",
     "output_type": "stream",
     "text": [
      "Fitting 3 folds for each of 36 candidates, totalling 108 fits\n"
     ]
    },
    {
     "name": "stderr",
     "output_type": "stream",
     "text": [
      "[Parallel(n_jobs=-1)]: Done  42 tasks      | elapsed:   23.1s\n",
      "[Parallel(n_jobs=-1)]: Done 108 out of 108 | elapsed:  1.0min finished\n"
     ]
    }
   ],
   "source": [
    "rf_opt = rf_tune.fit(X, Y)\n"
   ]
  },
  {
   "cell_type": "code",
   "execution_count": 43,
   "metadata": {
    "collapsed": false
   },
   "outputs": [
    {
     "name": "stdout",
     "output_type": "stream",
     "text": [
      "0.874251497006\n",
      "RandomForestClassifier(bootstrap=True, class_weight=None, criterion='entropy',\n",
      "            max_depth=None, max_features=7, max_leaf_nodes=None,\n",
      "            min_samples_leaf=2, min_samples_split=2,\n",
      "            min_weight_fraction_leaf=0.0, n_estimators=1000, n_jobs=1,\n",
      "            oob_score=False, random_state=None, verbose=0,\n",
      "            warm_start=False)\n"
     ]
    }
   ],
   "source": [
    "# print the best score and estimator\n",
    "print(rf_opt.best_score_)\n",
    "print(rf_opt.best_estimator_)\n"
   ]
  },
  {
   "cell_type": "code",
   "execution_count": 48,
   "metadata": {
    "collapsed": true
   },
   "outputs": [],
   "source": [
    "# Let us instatiate the classifier with the obtained optimal values\n",
    "IR_ref_opt = RandomForestClassifier(bootstrap=True, class_weight=None, criterion='entropy',\n",
    "            max_depth=None, max_features=7, max_leaf_nodes=None,\n",
    "            min_samples_leaf=2, min_samples_split=2,\n",
    "            min_weight_fraction_leaf=0.0, n_estimators=1000, n_jobs=1,\n",
    "            oob_score=False, random_state=None, verbose=0,\n",
    "            warm_start=False)\n"
   ]
  },
  {
   "cell_type": "code",
   "execution_count": 49,
   "metadata": {
    "collapsed": false
   },
   "outputs": [],
   "source": [
    "from sklearn import preprocessing\n",
    "min_max_scaler = preprocessing.MinMaxScaler()\n",
    "col_train_minmax = min_max_scaler.fit_transform(col_train)"
   ]
  },
  {
   "cell_type": "code",
   "execution_count": 50,
   "metadata": {
    "collapsed": true
   },
   "outputs": [],
   "source": [
    "col_test_minmax = min_max_scaler.transform(col_test)"
   ]
  },
  {
   "cell_type": "code",
   "execution_count": 51,
   "metadata": {
    "collapsed": false
   },
   "outputs": [
    {
     "data": {
      "text/plain": [
       "RandomForestClassifier(bootstrap=True, class_weight=None, criterion='entropy',\n",
       "            max_depth=None, max_features=7, max_leaf_nodes=None,\n",
       "            min_samples_leaf=2, min_samples_split=2,\n",
       "            min_weight_fraction_leaf=0.0, n_estimators=1000, n_jobs=1,\n",
       "            oob_score=False, random_state=None, verbose=0,\n",
       "            warm_start=False)"
      ]
     },
     "execution_count": 51,
     "metadata": {},
     "output_type": "execute_result"
    }
   ],
   "source": [
    "IR_ref_opt.fit(col_train_minmax, lab_train)"
   ]
  },
  {
   "cell_type": "code",
   "execution_count": 52,
   "metadata": {
    "collapsed": true
   },
   "outputs": [],
   "source": [
    "score = IR_ref_opt.score(col_test_minmax, lab_test)"
   ]
  },
  {
   "cell_type": "code",
   "execution_count": 53,
   "metadata": {
    "collapsed": false
   },
   "outputs": [
    {
     "data": {
      "text/plain": [
       "0.865979381443299"
      ]
     },
     "execution_count": 53,
     "metadata": {},
     "output_type": "execute_result"
    }
   ],
   "source": [
    "score"
   ]
  },
  {
   "cell_type": "code",
   "execution_count": 54,
   "metadata": {
    "collapsed": false
   },
   "outputs": [
    {
     "data": {
      "text/plain": [
       "[('5_8__8_0', 0.38494357560826847),\n",
       " ('3_6__8_0', 0.219899447017955),\n",
       " ('4_5__8_0', 0.11195931263053961),\n",
       " ('3_6__4_5', 0.10269506304345775),\n",
       " ('3_6__5_8', 0.094712044326689337),\n",
       " ('4_5__5_8', 0.085790557373089812),\n",
       " ('null', 0.0)]"
      ]
     },
     "execution_count": 54,
     "metadata": {},
     "output_type": "execute_result"
    }
   ],
   "source": [
    "sorted(zip(feature_names,IR_ref_opt.feature_importances_),key=lambda  q: q[1],reverse=True)"
   ]
  },
  {
   "cell_type": "code",
   "execution_count": 55,
   "metadata": {
    "collapsed": false
   },
   "outputs": [],
   "source": [
    "from sklearn import cross_validation\n",
    "scores = cross_validation.cross_val_score(IR_ref_opt, X, Y, cv=5)"
   ]
  },
  {
   "cell_type": "code",
   "execution_count": 56,
   "metadata": {
    "collapsed": false
   },
   "outputs": [
    {
     "data": {
      "text/plain": [
       "array([ 0.91044776,  0.8358209 ,  0.8358209 ,  0.88059701,  0.81818182])"
      ]
     },
     "execution_count": 56,
     "metadata": {},
     "output_type": "execute_result"
    }
   ],
   "source": [
    "scores"
   ]
  },
  {
   "cell_type": "code",
   "execution_count": 57,
   "metadata": {
    "collapsed": false
   },
   "outputs": [
    {
     "name": "stdout",
     "output_type": "stream",
     "text": [
      "0.856173677069\n",
      "0.0340999367\n"
     ]
    }
   ],
   "source": [
    "mean_sc = mean(scores)\n",
    "print mean_sc\n",
    "print std(scores)"
   ]
  },
  {
   "cell_type": "code",
   "execution_count": 58,
   "metadata": {
    "collapsed": false
   },
   "outputs": [],
   "source": [
    "h = .3  # step size in the mesh\n",
    "\n",
    "x0_min, x0_max = -0.5, 2.0\n",
    "x1_min, x1_max = -1.0, 5.5\n",
    "x2_min, x2_max = -1.5, 2.0\n",
    "x3_min, x3_max = 0.5, 3.5\n",
    "x4_min, x4_max = -0.5, 3.5\n",
    "x5_min, x5_max = 0.0, 7.0\n",
    "x6_min, x6_max = -0.1, 0.1\n",
    "x0x0, x1x1, x2x2, x3x3, x4x4, x5x5, x6x6 = np.meshgrid(np.arange(x0_min, x0_max, h), np.arange(x1_min, x1_max, h), np.arange(x2_min, x2_max, h),\n",
    "                                                      np.arange(x3_min, x3_max, h),np.arange(x4_min, x4_max, h),\n",
    "                                                      np.arange(x5_min, x5_max, h),np.arange(x6_min, x6_max, h))"
   ]
  },
  {
   "cell_type": "code",
   "execution_count": 59,
   "metadata": {
    "collapsed": false
   },
   "outputs": [
    {
     "data": {
      "text/plain": [
       "<matplotlib.figure.Figure at 0x10ffb6fd0>"
      ]
     },
     "execution_count": 59,
     "metadata": {},
     "output_type": "execute_result"
    },
    {
     "data": {
      "text/plain": [
       "<matplotlib.figure.Figure at 0x10ffb6fd0>"
      ]
     },
     "metadata": {},
     "output_type": "display_data"
    }
   ],
   "source": [
    "plt.figure(figsize=(6.5, 5.5))\n"
   ]
  },
  {
   "cell_type": "code",
   "execution_count": null,
   "metadata": {
    "collapsed": false
   },
   "outputs": [],
   "source": [
    "if hasattr(IR_ref_opt, \"decision_function\"):\n",
    "    Z = IR_ref_opt.decision_function(np.c_[x0x0.ravel(), x1x1.ravel(), x2x2.ravel(),x3x3.ravel(), x4x4.ravel(), x5x5.ravel(), x6x6.ravel(),])\n",
    "else:\n",
    "    Z = IR_ref_opt.predict_proba(np.c_[x0x0.ravel(), x1x1.ravel(), x2x2.ravel(),x3x3.ravel(), x4x4.ravel(), x5x5.ravel(), x6x6.ravel(),])[:, 1]"
   ]
  },
  {
   "cell_type": "code",
   "execution_count": 360,
   "metadata": {
    "collapsed": false
   },
   "outputs": [
    {
     "name": "stdout",
     "output_type": "stream",
     "text": [
      "(22, 9, 12, 10, 14, 24, 1)\n",
      "(22, 9, 12, 10, 14, 24, 1)\n"
     ]
    },
    {
     "data": {
      "text/plain": [
       "<matplotlib.text.Text at 0x12c912e50>"
      ]
     },
     "execution_count": 360,
     "metadata": {},
     "output_type": "execute_result"
    },
    {
     "data": {
      "image/png": "[encoded data removed]",
      "text/plain": [
       "<matplotlib.figure.Figure at 0x12c5ab050>"
      ]
     },
     "metadata": {},
     "output_type": "display_data"
    }
   ],
   "source": [
    "# just plot the dataset first\n",
    "cm = plt.cm.RdBu\n",
    "cm_bright = ListedColormap(['#FF0000', '#0000FF'])\n",
    "print shape(x0x0)\n",
    "# Put the result into a color plot\n",
    "Z = Z.reshape(x0x0.shape)\n",
    "print shape(Z)\n",
    "\n",
    "plt.figure(figsize=(6.5, 5.5))\n",
    "for i in (arange(5,6)):\n",
    "    for j in (arange(4,5)):\n",
    "        for h in (arange(6,7)):\n",
    "            for k in (arange(11,13)):\n",
    "                plt.contourf(x0x0[:,:,i,j,h,k,0], x1x1[:,:,i,j,h,k,0], Z[:,:,i,j,h,k,0], cmap=cm, alpha=.8)\n",
    "#plt.contourf(x0x0[:,:,5,5,5,5,0], x1x1[:,:,5,5,5,5,0], Z[:,:,5,5,5,5,0], cmap=cm, alpha=.8)\n",
    "\n",
    "plt.scatter(col_train[:, 0], col_train[:, 1], c=lab_train, cmap=cm_bright,s=20)\n",
    "    ## and testing points\n",
    "plt.scatter(col_test[:, 0], col_test[:, 1], c=lab_test, cmap=cm_bright,alpha=0.5,s=20,zorder=1.0)\n",
    "\n",
    "plt.xlim(xx.min(), 1.8)\n",
    "plt.ylim(yy.min(), yy.max())\n",
    "#plt.xticks(())\n",
    "#plt.yticks(())\n",
    "plt.title('Random Forest',size=20)\n",
    "plt.text(xx.max() - .3, yy.min() + .3, ('%.2f' % mean_sc).lstrip('0'),\n",
    "        size=15, horizontalalignment='right')\n",
    "plt.xlabel('[5.8 - 8.0]',size=15)\n",
    "plt.ylabel('[3.6 - 5.8]',size=15)"
   ]
  },
  {
   "cell_type": "code",
   "execution_count": null,
   "metadata": {
    "collapsed": true
   },
   "outputs": [],
   "source": []
  }
 ],
 "metadata": {
  "kernelspec": {
   "display_name": "Python 2",
   "language": "python",
   "name": "python2"
  },
  "language_info": {
   "codemirror_mode": {
    "name": "ipython",
    "version": 2
   },
   "file_extension": ".py",
   "mimetype": "text/x-python",
   "name": "python",
   "nbconvert_exporter": "python",
   "pygments_lexer": "ipython2",
   "version": "2.7.11"
  }
 },
 "nbformat": 4,
 "nbformat_minor": 0
}
