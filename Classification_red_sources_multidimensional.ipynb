{
 "cells": [
  {
   "cell_type": "code",
   "execution_count": 1,
   "metadata": {
    "collapsed": false
   },
   "outputs": [
    {
     "name": "stdout",
     "output_type": "stream",
     "text": [
      "Automatically created module for IPython interactive environment\n"
     ]
    }
   ],
   "source": [
    "print(__doc__)"
   ]
  },
  {
   "cell_type": "code",
   "execution_count": 2,
   "metadata": {
    "collapsed": false
   },
   "outputs": [
    {
     "name": "stdout",
     "output_type": "stream",
     "text": [
      "Populating the interactive namespace from numpy and matplotlib\n"
     ]
    }
   ],
   "source": [
    "%pylab inline\n",
    "\n",
    "import numpy as np\n",
    "import matplotlib.pyplot as plt\n",
    "from matplotlib.colors import ListedColormap\n",
    "from sklearn.cross_validation import train_test_split\n",
    "from sklearn.preprocessing import StandardScaler\n",
    "from sklearn.datasets import make_moons, make_circles, make_classification\n",
    "from sklearn.neighbors import KNeighborsClassifier\n",
    "from sklearn.svm import SVC\n",
    "from sklearn.tree import DecisionTreeClassifier\n",
    "from sklearn.ensemble import RandomForestClassifier, AdaBoostClassifier\n",
    "from sklearn.naive_bayes import GaussianNB\n",
    "from sklearn.discriminant_analysis import LinearDiscriminantAnalysis\n",
    "from sklearn.discriminant_analysis import QuadraticDiscriminantAnalysis\n",
    "import pickle"
   ]
  },
  {
   "cell_type": "code",
   "execution_count": 3,
   "metadata": {
    "collapsed": true
   },
   "outputs": [],
   "source": [
    "h = .02  # step size in the mesh\n",
    "\n",
    "#names = [\"Nearest Neighbors\", \"Linear SVM\", \"RBF SVM\", \"Decision Tree\",\n",
    "#         \"Random Forest\", \"AdaBoost\", \"Naive Bayes\", \"Linear Discriminant Analysis\",\n",
    "#         \"Quadratic Discriminant Analysis\"]\n",
    "names = [\"RBF SVM\",\"Random Forest\"]"
   ]
  },
  {
   "cell_type": "code",
   "execution_count": 13,
   "metadata": {
    "collapsed": true
   },
   "outputs": [],
   "source": [
    "#classifiers = [\n",
    "#    KNeighborsClassifier(3),\n",
    "#    SVC(kernel=\"linear\", C=0.025),\n",
    "#    SVC(gamma=2, C=1),\n",
    "#    DecisionTreeClassifier(max_depth=5),\n",
    "#    RandomForestClassifier(max_depth=5, n_estimators=10, max_features=1),\n",
    "#    AdaBoostClassifier(),\n",
    "#    GaussianNB(),\n",
    "#    LinearDiscriminantAnalysis(),\n",
    "#    QuadraticDiscriminantAnalysis()]\n",
    "\n",
    "classifiers = [\n",
    "    SVC(gamma=2, C=1),\n",
    "    RandomForestClassifier(max_depth=5, n_estimators=10, max_features=1)]"
   ]
  },
  {
   "cell_type": "code",
   "execution_count": 5,
   "metadata": {
    "collapsed": true
   },
   "outputs": [],
   "source": [
    "X, y = make_classification(n_features=2, n_redundant=0, n_informative=2,\n",
    "                           random_state=1, n_clusters_per_class=1)\n",
    "rng = np.random.RandomState(2)\n",
    "X += 2 * rng.uniform(size=X.shape)\n",
    "linearly_separable = (X, y)"
   ]
  },
  {
   "cell_type": "code",
   "execution_count": 6,
   "metadata": {
    "collapsed": true
   },
   "outputs": [],
   "source": [
    "datasets = [make_moons(noise=0.3, random_state=0),\n",
    "            make_circles(noise=0.2, factor=0.5, random_state=1),\n",
    "            linearly_separable\n",
    "            ]"
   ]
  },
  {
   "cell_type": "code",
   "execution_count": 7,
   "metadata": {
    "collapsed": false
   },
   "outputs": [
    {
     "data": {
      "text/plain": [
       "<matplotlib.collections.PathCollection at 0x10c8f8a90>"
      ]
     },
     "execution_count": 7,
     "metadata": {},
     "output_type": "execute_result"
    },
    {
     "data": {
      "image/png": "[encoded data removed]",
      "text/plain": [
       "<matplotlib.figure.Figure at 0x10c80add0>"
      ]
     },
     "metadata": {},
     "output_type": "display_data"
    }
   ],
   "source": [
    "plt.scatter(datasets[0][0].T[0],datasets[0][0].T[1])\n",
    "plt.scatter(datasets[1][0].T[0],datasets[1][0].T[1])\n",
    "plt.scatter(datasets[2][0].T[0],datasets[2][0].T[1])"
   ]
  },
  {
   "cell_type": "code",
   "execution_count": 8,
   "metadata": {
    "collapsed": false
   },
   "outputs": [
    {
     "name": "stdout",
     "output_type": "stream",
     "text": [
      "(100, 2)\n"
     ]
    },
    {
     "data": {
      "text/plain": [
       "<matplotlib.figure.Figure at 0x10c838b50>"
      ]
     },
     "metadata": {},
     "output_type": "display_data"
    }
   ],
   "source": [
    "figure = plt.figure(figsize=(54, 18))\n",
    "i = 1\n",
    "# iterate over datasets\n",
    "\n",
    "# preprocess dataset, split into training and test part\n",
    "X, y = datasets[0]\n",
    "X = StandardScaler().fit_transform(X)\n",
    "X_train, X_test, y_train, y_test = train_test_split(X, y, test_size=.4)\n",
    "\n",
    "print shape(X)"
   ]
  },
  {
   "cell_type": "code",
   "execution_count": 9,
   "metadata": {
    "collapsed": false
   },
   "outputs": [
    {
     "name": "stdout",
     "output_type": "stream",
     "text": [
      "[[ 0.30920485 -0.127041  ]\n",
      " [-0.48691402  0.57259859]\n",
      " [-0.6851801   0.56462893]\n",
      " [-0.83190068  0.93244079]\n",
      " [-0.20216417  0.09829492]\n",
      " [ 0.59348201  0.25278868]\n",
      " [ 0.20764271  0.88856402]\n",
      " [-0.42443599  1.30854456]\n",
      " [-0.73153577  1.24236135]\n",
      " [-1.14359579  0.76280671]\n",
      " [ 1.89457786 -1.57392425]\n",
      " [ 1.35242892  0.60859541]\n",
      " [ 1.22467352 -1.45537741]\n",
      " [ 1.39730283  0.39040035]\n",
      " [-2.05161935  0.3295589 ]\n",
      " [ 0.67050908 -1.01221609]\n",
      " [-0.34194837 -0.50298565]\n",
      " [ 0.24942261  0.37041953]\n",
      " [ 0.50954902 -1.66427178]\n",
      " [-0.03734756  0.53962298]\n",
      " [-0.22465612  1.70271788]\n",
      " [ 0.19895122  2.27694191]\n",
      " [-1.63601617  1.14409337]\n",
      " [ 1.33380816 -0.73018114]\n",
      " [-0.33075371 -0.55325533]\n",
      " [ 0.98840214 -1.75933045]\n",
      " [-0.02974639 -0.63475756]\n",
      " [ 0.15350841  0.8912278 ]\n",
      " [-1.61181827 -1.16122353]\n",
      " [ 0.81773837  1.64300265]\n",
      " [-0.1636123  -1.53782127]\n",
      " [ 0.51038341 -1.09925804]\n",
      " [-0.62663858 -0.45097084]\n",
      " [ 0.15940018 -1.05506347]\n",
      " [ 0.89063568 -0.73843955]\n",
      " [-0.22120141  1.00868763]\n",
      " [-1.55182484  0.46910804]\n",
      " [ 1.81872078  0.7346544 ]\n",
      " [-1.4065875  -1.03687185]\n",
      " [ 0.11892081  0.14210094]\n",
      " [-1.55268459 -0.3087488 ]\n",
      " [-0.22413227  0.94477311]\n",
      " [ 0.27524467  0.58976897]\n",
      " [ 1.12756772 -1.65289561]\n",
      " [-0.04156698 -0.71850484]\n",
      " [ 1.60097254 -0.09531556]\n",
      " [ 0.15581821 -1.14573741]\n",
      " [ 1.37086214  0.22375044]\n",
      " [ 1.31650323 -1.10788814]\n",
      " [ 0.0081454  -0.58656254]\n",
      " [-0.17344159  1.50362044]\n",
      " [-0.34408365 -0.11501714]\n",
      " [ 0.43094924 -0.51610516]\n",
      " [-0.98048598  0.8478617 ]\n",
      " [-0.31251963  1.85361272]\n",
      " [-1.72018154 -0.11323539]\n",
      " [ 1.85584796  0.39711336]\n",
      " [ 0.4860189   1.96041925]\n",
      " [-0.09130345 -0.93824346]\n",
      " [ 1.53916295 -0.40646646]]\n",
      "[0 1 1 0 0 0 0 0 0 0 1 1 1 1 0 1 1 0 1 0 0 0 0 1 1 1 1 0 0 0 1 1 1 1 1 0 0\n",
      " 1 0 0 0 0 0 1 1 1 1 1 1 1 0 1 0 0 0 0 1 0 1 1]\n"
     ]
    }
   ],
   "source": [
    "print X_train\n",
    "print y_train"
   ]
  },
  {
   "cell_type": "code",
   "execution_count": 10,
   "metadata": {
    "collapsed": false
   },
   "outputs": [
    {
     "data": {
      "text/plain": [
       "([], <a list of 0 Text yticklabel objects>)"
      ]
     },
     "execution_count": 10,
     "metadata": {},
     "output_type": "execute_result"
    },
    {
     "data": {
      "image/png": "[encoded data removed]",
      "text/plain": [
       "<matplotlib.figure.Figure at 0x10f1b7e90>"
      ]
     },
     "metadata": {},
     "output_type": "display_data"
    }
   ],
   "source": [
    "x_min, x_max = X[:, 0].min() - .5, X[:, 0].max() + .5\n",
    "y_min, y_max = X[:, 1].min() - .5, X[:, 1].max() + .5\n",
    "xx, yy = np.meshgrid(np.arange(x_min, x_max, h),\n",
    "                        np.arange(y_min, y_max, h))\n",
    "\n",
    "# just plot the dataset first\n",
    "cm = plt.cm.RdBu\n",
    "cm_bright = ListedColormap(['#FF0000', '#0000FF'])\n",
    "#ax = plt.subplot(len(datasets), len(classifiers) + 1, i)\n",
    "# Plot the training points\n",
    "plt.scatter(X_train[:, 0], X_train[:, 1], c=y_train, cmap=cm_bright)\n",
    "# and testing points\n",
    "#plt.scatter(X_test[:, 0], X_test[:, 1], c=y_test, cmap=cm_bright, alpha=0.6)\n",
    "xlim(xx.min(), xx.max())\n",
    "ylim(yy.min(), yy.max())\n",
    "xticks(())\n",
    "yticks(())\n",
    "#i += 1"
   ]
  },
  {
   "cell_type": "code",
   "execution_count": 11,
   "metadata": {
    "collapsed": false
   },
   "outputs": [
    {
     "name": "stdout",
     "output_type": "stream",
     "text": [
      "(60, 2)\n",
      "(60,)\n",
      "(40, 2)\n",
      "(40,)\n"
     ]
    }
   ],
   "source": [
    "print shape(X_train)\n",
    "print shape(y_train)\n",
    "print shape(X_test)\n",
    "print shape(y_test)"
   ]
  },
  {
   "cell_type": "code",
   "execution_count": 12,
   "metadata": {
    "collapsed": false
   },
   "outputs": [
    {
     "data": {
      "image/png": "[encoded data removed]",
      "text/plain": [
       "<matplotlib.figure.Figure at 0x1041502d0>"
      ]
     },
     "metadata": {},
     "output_type": "display_data"
    }
   ],
   "source": [
    "figure = plt.figure(figsize=(27, 9))\n",
    "# iterate over classifiers\n",
    "for name, clf in zip(names, classifiers):\n",
    "    ax = plt.subplot(len(datasets), len(classifiers) + 1, i)\n",
    "    clf.fit(X_train, y_train)\n",
    "    score = clf.score(X_test, y_test)\n",
    "\n",
    "    # Plot the decision boundary. For that, we will assign a color to each\n",
    "    # point in the mesh [x_min, m_max]x[y_min, y_max].\n",
    "    if hasattr(clf, \"decision_function\"):\n",
    "        Z = clf.decision_function(np.c_[xx.ravel(), yy.ravel()])\n",
    "    else:\n",
    "        Z = clf.predict_proba(np.c_[xx.ravel(), yy.ravel()])[:, 1]\n",
    "\n",
    "    # Put the result into a color plot\n",
    "    Z = Z.reshape(xx.shape)\n",
    "    ax.contourf(xx, yy, Z, cmap=cm, alpha=.8)\n",
    "\n",
    "    # Plot also the training points\n",
    "    ax.scatter(X_train[:, 0], X_train[:, 1], c=y_train, cmap=cm_bright)\n",
    "    # and testing points\n",
    "    #ax.scatter(X_test[:, 0], X_test[:, 1], c=y_test, cmap=cm_bright, alpha=0.6)\n",
    "\n",
    "    ax.set_xlim(xx.min(), xx.max())\n",
    "    ax.set_ylim(yy.min(), yy.max())\n",
    "    ax.set_xticks(())\n",
    "    ax.set_yticks(())\n",
    "    ax.set_title(name)\n",
    "    ax.text(xx.max() - .3, yy.min() + .3, ('%.2f' % score).lstrip('0'),\n",
    "            size=15, horizontalalignment='right')\n",
    "    i += 1"
   ]
  },
  {
   "cell_type": "code",
   "execution_count": 14,
   "metadata": {
    "collapsed": false
   },
   "outputs": [],
   "source": [
    "# Read all datapoints from training and testing sets\n",
    "\n",
    "all_file = open('/Users/jmartine/science/data/training_sets/agb_yso_data_serpens.pickle','rb')\n",
    "col__3_6__4_5__serpens_agb,col__3_6__4_5__serpens_yso,col__3_6__5_8__serpens_agb,col__3_6__5_8__serpens_yso,col__5_8__8_0__serpens_agb,col__5_8__8_0__serpens_yso,col__4_5__5_8__serpens_agb,col__4_5__5_8__serpens_yso,col__4_5__8_0__serpens_agb,col__4_5__8_0__serpens_yso,col__3_6__8_0__serpens_agb,col__3_6__8_0__serpens_yso,col__3_6__serpens_agb,col__3_6__serpens_yso,col__4_5__serpens_agb,col__4_5__serpens_yso,col__5_8__serpens_agb,col__5_8__serpens_yso,col__8_0__serpens_agb,col__8_0__serpens_yso = pickle.load(all_file)\n",
    "\n",
    "all_file = open('/Users/jmartine/science/data/training_sets/agb_yso_data_n1333.pickle','rb')\n",
    "col__3_6__4_5__n1333_agb,col__3_6__4_5__n1333_yso,col__3_6__5_8__n1333_agb,col__3_6__5_8__n1333_yso,col__5_8__8_0__n1333_agb,col__5_8__8_0__n1333_yso,col__4_5__5_8__n1333_agb,col__4_5__5_8__n1333_yso,col__4_5__8_0__n1333_agb,col__4_5__8_0__n1333_yso,col__3_6__8_0__n1333_agb,col__3_6__8_0__n1333_yso,col__3_6__n1333_agb,col__3_6__n1333_yso,col__4_5__n1333_agb,col__4_5__n1333_yso,col__5_8__n1333_agb,col__5_8__n1333_yso,col__8_0__n1333_agb,col__8_0__n1333_yso = pickle.load(all_file)\n",
    "\n",
    "all_file = open('/Users/jmartine/science/data/training_sets/agb_yso_data_ruffle.pickle','rb')\n",
    "col__3_6__4_5__ruffle_agb,col__3_6__4_5__ruffle_yso,col__3_6__5_8__ruffle_agb,col__3_6__5_8__ruffle_yso,col__5_8__8_0__ruffle_agb,col__5_8__8_0__ruffle_yso,col__4_5__5_8__ruffle_agb,col__4_5__5_8__ruffle_yso,col__4_5__8_0__ruffle_agb,col__4_5__8_0__ruffle_yso,col__3_6__8_0__ruffle_agb,col__3_6__8_0__ruffle_yso,col__3_6__ruffle_agb,col__3_6__ruffle_yso,col__4_5__ruffle_agb,col__4_5__ruffle_yso,col__5_8__ruffle_agb,col__5_8__ruffle_yso,col__8_0__ruffle_agb,col__8_0__ruffle_yso = pickle.load(all_file)\n",
    "\n",
    "all_file = open('/Users/jmartine/science/data/training_sets/agb_yso_data_reiter.pickle','rb')\n",
    "col__3_6__4_5__reiter_agb,col__3_6__4_5__reiter_yso,col__3_6__5_8__reiter_agb,col__3_6__5_8__reiter_yso,col__5_8__8_0__reiter_agb,col__5_8__8_0__reiter_yso,col__4_5__5_8__reiter_agb,col__4_5__5_8__reiter_yso,col__4_5__8_0__reiter_agb,col__4_5__8_0__reiter_yso,col__3_6__8_0__reiter_agb,col__3_6__8_0__reiter_yso,col__3_6__reiter_agb,col__3_6__reiter_yso,col__4_5__reiter_agb,col__4_5__reiter_yso,col__5_8__reiter_agb,col__5_8__reiter_yso,col__8_0__reiter_agb,col__8_0__reiter_yso = pickle.load(all_file)"
   ]
  },
  {
   "cell_type": "code",
   "execution_count": 15,
   "metadata": {
    "collapsed": false
   },
   "outputs": [],
   "source": [
    "# Splitting AGBs and YSOs. Cleaning the sample. \n",
    "\n",
    "col__5_8__8_0__yso = append(col__5_8__8_0__serpens_yso[col__5_8__8_0__serpens_yso > 0.3],col__5_8__8_0__n1333_yso[col__5_8__8_0__n1333_yso > 0.3])\n",
    "col__3_6__4_5__yso = append(col__3_6__4_5__serpens_yso[col__5_8__8_0__serpens_yso > 0.3],col__3_6__4_5__n1333_yso[col__5_8__8_0__n1333_yso > 0.3])\n",
    "col__3_6__5_8__yso = append(col__3_6__5_8__serpens_yso[col__5_8__8_0__serpens_yso > 0.3],col__3_6__5_8__n1333_yso[col__5_8__8_0__n1333_yso > 0.3])\n",
    "col__4_5__5_8__yso = append(col__4_5__5_8__serpens_yso[col__5_8__8_0__serpens_yso > 0.3],col__4_5__5_8__n1333_yso[col__5_8__8_0__n1333_yso > 0.3])\n",
    "col__4_5__8_0__yso = append(col__4_5__8_0__serpens_yso[col__5_8__8_0__serpens_yso > 0.3],col__4_5__8_0__n1333_yso[col__5_8__8_0__n1333_yso > 0.3])\n",
    "col__3_6__8_0__yso = append(col__3_6__8_0__serpens_yso[col__5_8__8_0__serpens_yso > 0.3],col__3_6__8_0__n1333_yso[col__5_8__8_0__n1333_yso > 0.3])\n",
    "col__3_6__yso = append(col__3_6__serpens_yso[col__5_8__8_0__serpens_yso > 0.3],col__3_6__n1333_yso[col__5_8__8_0__n1333_yso > 0.3])\n",
    "col__4_5__yso = append(col__4_5__serpens_yso[col__5_8__8_0__serpens_yso > 0.3],col__4_5__n1333_yso[col__5_8__8_0__n1333_yso > 0.3])\n",
    "col__5_8__yso = append(col__5_8__serpens_yso[col__5_8__8_0__serpens_yso > 0.3],col__5_8__n1333_yso[col__5_8__8_0__n1333_yso > 0.3])\n",
    "col__8_0__yso = append(col__8_0__serpens_yso[col__5_8__8_0__serpens_yso > 0.3],col__8_0__n1333_yso[col__5_8__8_0__n1333_yso > 0.3])\n",
    "\n",
    "#plt.scatter(col__5_8__8_0__yso,col__3_6__4_5__yso)"
   ]
  },
  {
   "cell_type": "code",
   "execution_count": 16,
   "metadata": {
    "collapsed": false
   },
   "outputs": [],
   "source": [
    "# Splitting AGBs and YSOs. Cleaning the sample. \n",
    "\n",
    "col__5_8__8_0__agb = append(col__5_8__8_0__reiter_agb[col__5_8__8_0__reiter_agb < 0.85],col__5_8__8_0__ruffle_agb[col__5_8__8_0__ruffle_agb < 0.85])\n",
    "col__3_6__4_5__agb = append(col__3_6__4_5__reiter_agb[col__5_8__8_0__reiter_agb < 0.85],col__3_6__4_5__ruffle_agb[col__5_8__8_0__ruffle_agb < 0.85])\n",
    "col__3_6__5_8__agb = append(col__3_6__5_8__reiter_agb[col__5_8__8_0__reiter_agb < 0.85],col__3_6__5_8__ruffle_agb[col__5_8__8_0__ruffle_agb < 0.85])\n",
    "col__4_5__5_8__agb = append(col__4_5__5_8__reiter_agb[col__5_8__8_0__reiter_agb < 0.85],col__4_5__5_8__ruffle_agb[col__5_8__8_0__ruffle_agb < 0.85])\n",
    "col__4_5__8_0__agb = append(col__4_5__8_0__reiter_agb[col__5_8__8_0__reiter_agb < 0.85],col__4_5__8_0__ruffle_agb[col__5_8__8_0__ruffle_agb < 0.85])\n",
    "col__3_6__8_0__agb = append(col__3_6__8_0__reiter_agb[col__5_8__8_0__reiter_agb < 0.85],col__3_6__8_0__ruffle_agb[col__5_8__8_0__ruffle_agb < 0.85])\n",
    "col__3_6__agb = append(col__3_6__reiter_agb[col__5_8__8_0__reiter_agb < 0.85],col__3_6__ruffle_agb[col__5_8__8_0__ruffle_agb < 0.85])\n",
    "col__4_5__agb = append(col__4_5__reiter_agb[col__5_8__8_0__reiter_agb < 0.85],col__4_5__ruffle_agb[col__5_8__8_0__ruffle_agb < 0.85])\n",
    "col__5_8__agb = append(col__5_8__reiter_agb[col__5_8__8_0__reiter_agb < 0.85],col__5_8__ruffle_agb[col__5_8__8_0__ruffle_agb < 0.85])\n",
    "col__8_0__agb = append(col__8_0__reiter_agb[col__5_8__8_0__reiter_agb < 0.85],col__8_0__ruffle_agb[col__5_8__8_0__ruffle_agb < 0.85])\n",
    "#plt.scatter(col__5_8__8_0__agb,col__3_6__4_5__agb)"
   ]
  },
  {
   "cell_type": "code",
   "execution_count": 17,
   "metadata": {
    "collapsed": false
   },
   "outputs": [
    {
     "data": {
      "text/plain": [
       "<matplotlib.collections.PathCollection at 0x11232dbd0>"
      ]
     },
     "execution_count": 17,
     "metadata": {},
     "output_type": "execute_result"
    },
    {
     "data": {
      "image/png": "[encoded data removed]",
      "text/plain": [
       "<matplotlib.figure.Figure at 0x10c843110>"
      ]
     },
     "metadata": {},
     "output_type": "display_data"
    }
   ],
   "source": [
    "plt.scatter(col__5_8__8_0__agb,col__3_6__5_8__agb,color='blue',alpha=0.4)\n",
    "plt.scatter(col__5_8__8_0__yso,col__3_6__5_8__yso,color='red',alpha=0.4)\n",
    "plt.scatter(col__5_8__8_0__agb,col__3_6__4_5__agb,color='green',alpha=0.4)\n",
    "plt.scatter(col__5_8__8_0__yso,col__3_6__4_5__yso,color='orange',alpha=0.4)\n",
    "plt.scatter(col__5_8__8_0__agb,col__4_5__5_8__agb,color='purple',alpha=0.4)\n",
    "plt.scatter(col__5_8__8_0__yso,col__4_5__5_8__yso,color='pink',alpha=0.4)"
   ]
  },
  {
   "cell_type": "code",
   "execution_count": 18,
   "metadata": {
    "collapsed": false
   },
   "outputs": [
    {
     "name": "stdout",
     "output_type": "stream",
     "text": [
      "(200,)\n",
      "(134,)\n"
     ]
    }
   ],
   "source": [
    "print shape(col__5_8__8_0__agb)\n",
    "print shape(col__5_8__8_0__yso)"
   ]
  },
  {
   "cell_type": "code",
   "execution_count": 19,
   "metadata": {
    "collapsed": false
   },
   "outputs": [
    {
     "name": "stdout",
     "output_type": "stream",
     "text": [
      "(200,)\n",
      "(134,)\n"
     ]
    }
   ],
   "source": [
    "# Select training data\n",
    "\n",
    "size_training_set = 70\n",
    "\n",
    "mask1 = np.ones(len(col__5_8__8_0__agb), dtype=bool)\n",
    "mask2 = np.ones(len(col__5_8__8_0__yso), dtype=bool)\n",
    "\n",
    "at1 = np.arange(len(col__5_8__8_0__agb))\n",
    "at2 = np.arange(len(col__5_8__8_0__yso))\n",
    "\n",
    "numpy.random.shuffle(at1)\n",
    "it1 = at1[0:size_training_set]\n",
    "numpy.random.shuffle(at2)\n",
    "it2 = at2[0:size_training_set]\n",
    "\n",
    "mask1[it1] = False\n",
    "mask2[it2] = False\n",
    "\n",
    "print shape(mask1)\n",
    "print shape(mask2)"
   ]
  },
  {
   "cell_type": "code",
   "execution_count": 20,
   "metadata": {
    "collapsed": false
   },
   "outputs": [
    {
     "name": "stdout",
     "output_type": "stream",
     "text": [
      "(130,)\n",
      "(130,)\n",
      "(64,)\n",
      "(64,)\n"
     ]
    },
    {
     "data": {
      "image/png": "[encoded data removed]",
      "text/plain": [
       "<matplotlib.figure.Figure at 0x10f300bd0>"
      ]
     },
     "metadata": {},
     "output_type": "display_data"
    }
   ],
   "source": [
    "plt.scatter(col__5_8__8_0__agb[it1],col__3_6__5_8__agb[it1],color='blue')\n",
    "plt.scatter(col__5_8__8_0__yso[it2],col__3_6__5_8__yso[it2],color='red')\n",
    "plt.scatter(col__5_8__8_0__agb[mask1],col__3_6__5_8__agb[mask1],color='blue',alpha=0.3)\n",
    "plt.scatter(col__5_8__8_0__yso[mask2],col__3_6__5_8__yso[mask2],color='red',alpha=0.3)\n",
    "print shape(col__5_8__8_0__agb[mask1])\n",
    "print shape(col__3_6__5_8__agb[mask1])\n",
    "print shape(col__5_8__8_0__yso[mask2])\n",
    "print shape(col__3_6__5_8__yso[mask2])"
   ]
  },
  {
   "cell_type": "code",
   "execution_count": 21,
   "metadata": {
    "collapsed": false
   },
   "outputs": [
    {
     "name": "stdout",
     "output_type": "stream",
     "text": [
      "(70, 3)\n"
     ]
    }
   ],
   "source": [
    "# TRAINING SET\n",
    "# USING 3 FEATURES\n",
    "# 0's are YSOs, 1's are AGBs\n",
    "col_agb_train = np.array([col__5_8__8_0__agb[it1],col__3_6__5_8__agb[it1],col__4_5__5_8__agb[it1]])\n",
    "col_agb_train = col_agb_train.T\n",
    "col_yso_train = np.array([col__5_8__8_0__yso[it2],col__3_6__5_8__yso[it2],col__4_5__5_8__yso[it2]])\n",
    "col_yso_train = col_yso_train.T\n",
    "col_train = concatenate((col_agb_train,col_yso_train),axis=0)\n",
    "lab_train = np.zeros(len(col_train))\n",
    "lab_train[0:size_training_set] = 1\n",
    "lab_train = lab_train.astype(int)\n",
    "ind = arange(len(col_train))\n",
    "random.shuffle(ind)\n",
    "col_train = col_train[ind]\n",
    "lab_train = lab_train[ind]\n",
    "\n",
    "print shape(col_yso_train)"
   ]
  },
  {
   "cell_type": "code",
   "execution_count": 22,
   "metadata": {
    "collapsed": false
   },
   "outputs": [],
   "source": [
    "# TEST SET\n",
    "# 0's are YSOs, 1's are AGBs\n",
    "col_agb_test = np.array([col__5_8__8_0__agb[mask1],col__3_6__5_8__agb[mask1],col__4_5__5_8__agb[mask1]])\n",
    "col_agb_test = col_agb_test.T\n",
    "col_yso_test = np.array([col__5_8__8_0__yso[mask2],col__3_6__5_8__yso[mask2],col__4_5__5_8__yso[mask2]])\n",
    "col_yso_test = col_yso_test.T\n",
    "col_test = concatenate((col_agb_test,col_yso_test),axis=0)\n",
    "lab_test = np.zeros(len(col_test))\n",
    "lab_test[0:len(col__5_8__8_0__agb[mask1])] = 1\n",
    "lab_test = lab_test.astype(int)\n",
    "ind = arange(len(col_test))\n",
    "random.shuffle(ind)\n",
    "col_test = col_test[ind]\n",
    "lab_test = lab_test[ind]"
   ]
  },
  {
   "cell_type": "code",
   "execution_count": 23,
   "metadata": {
    "collapsed": false
   },
   "outputs": [],
   "source": [
    "indu = ~isnan(col_test[:,1])\n",
    "col_test = col_test[indu]\n",
    "lab_test = lab_test[indu]\n",
    "\n",
    "indu = ~isnan(col_train[:,1])\n",
    "col_train = col_train[indu]\n",
    "lab_train = lab_train[indu]"
   ]
  },
  {
   "cell_type": "code",
   "execution_count": 24,
   "metadata": {
    "collapsed": false
   },
   "outputs": [],
   "source": [
    "x_min, x_max = -0.5, 2.0\n",
    "y_min, y_max = -1.0, 3.5\n",
    "z_min, z_max = -1.5, 2.0\n",
    "xx, yy, zz = np.meshgrid(np.arange(x_min, x_max, h),\n",
    "                        np.arange(y_min, y_max, h), np.arange(z_min, z_max, h))"
   ]
  },
  {
   "cell_type": "code",
   "execution_count": 25,
   "metadata": {
    "collapsed": false
   },
   "outputs": [
    {
     "data": {
      "image/png": "[encoded data removed]",
      "text/plain": [
       "<matplotlib.figure.Figure at 0x10f1f7b50>"
      ]
     },
     "metadata": {},
     "output_type": "display_data"
    }
   ],
   "source": [
    "i = 1\n",
    "figure = plt.figure(figsize=(5.5, 2.5))\n",
    "ax.set_rasterization_zorder(1) \n",
    "# iterate over classifiers\n",
    "for name, clf in zip(names, classifiers):\n",
    "    #ax = plt.subplot(len(datasets), len(classifiers) + 1, i)\n",
    "    ax = plt.subplot(1, 2, i)\n",
    "    clf.fit(col_train, lab_train)\n",
    "    score = clf.score(col_test, lab_test)\n",
    "\n",
    "    # Plot the decision boundary. For that, we will assign a color to each\n",
    "    # point in the mesh [x_min, m_max]x[y_min, y_max].\n",
    "    if hasattr(clf, \"decision_function\"):\n",
    "        Z = clf.decision_function(np.c_[xx.ravel(), yy.ravel(), zz.ravel(),])\n",
    "    else:\n",
    "        Z = clf.predict_proba(np.c_[xx.ravel(), yy.ravel(), zz.ravel()])[:, 1]\n",
    "\n",
    "    # Put the result into a color plot\n",
    "    Z = Z.reshape(xx.shape)\n",
    "    ax.contourf(xx[:,:,150], yy[:,:,150], Z[:,:,150], cmap=cm, alpha=.8)\n",
    "    \n",
    "    ## Plot also the training points\n",
    "    #ax.scatter(col_train[:, 0], col_train[:, 1], c=lab_train, cmap=cm_bright,s=10)\n",
    "    ## and testing points\n",
    "    #ax.scatter(col_test[:, 0], col_test[:, 1], c=lab_test, cmap=cm_bright,alpha=0.5,s=10,zorder=1.0)\n",
    "    \n",
    "    ax.set_xlim(xx.min(), xx.max())\n",
    "    ax.set_ylim(yy.min(), yy.max())\n",
    "    ax.set_xticks(())\n",
    "    ax.set_yticks(())\n",
    "    ax.set_title(name,size=10)\n",
    "    ax.text(xx.max() - .3, yy.min() + .3, ('%.2f' % score).lstrip('0'),\n",
    "            size=15, horizontalalignment='right')\n",
    "    #ax.set_xlim(-0.5, 2.0)\n",
    "    #ax.set_ylim(-1.0, 3.5)\n",
    "    i += 1\n",
    "    \n",
    "#plt.savefig('ML_classification_v3_a.ps')"
   ]
  },
  {
   "cell_type": "code",
   "execution_count": 88,
   "metadata": {
    "collapsed": false
   },
   "outputs": [
    {
     "name": "stdout",
     "output_type": "stream",
     "text": [
      "(4921875,)\n"
     ]
    }
   ],
   "source": [
    "print shape(Z)"
   ]
  },
  {
   "cell_type": "code",
   "execution_count": null,
   "metadata": {
    "collapsed": true
   },
   "outputs": [],
   "source": []
  }
 ],
 "metadata": {
  "kernelspec": {
   "display_name": "Python 2",
   "language": "python",
   "name": "python2"
  },
  "language_info": {
   "codemirror_mode": {
    "name": "ipython",
    "version": 2
   },
   "file_extension": ".py",
   "mimetype": "text/x-python",
   "name": "python",
   "nbconvert_exporter": "python",
   "pygments_lexer": "ipython2",
   "version": "2.7.11"
  }
 },
 "nbformat": 4,
 "nbformat_minor": 0
}
